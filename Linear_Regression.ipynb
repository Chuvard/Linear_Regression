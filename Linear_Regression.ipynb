{
 "cells": [
  {
   "attachments": {},
   "cell_type": "markdown",
   "metadata": {},
   "source": [
    "## Outline\n",
    "\n",
    "* 1 - Importing modules\n",
    "* 2 - Linear regression with one variable\n",
    "    * 2.1 Problem Statement\n",
    "    * 2.2 Dataset\n",
    "    * 2.3 Refresher on linear regression\n",
    "    * 2.4 Compute Cost\n",
    "    * 2.5 Gradient descent\n",
    "    * 2.6 Learning parameters using batch gradient descent"
   ]
  },
  {
   "attachments": {},
   "cell_type": "markdown",
   "metadata": {},
   "source": [
    "### 1 - Importing modules"
   ]
  },
  {
   "cell_type": "code",
   "execution_count": 36,
   "metadata": {},
   "outputs": [],
   "source": [
    "### Importing modules\n",
    "import pandas as pd\n",
    "import numpy as np\n",
    "import matplotlib.pyplot as plt\n",
    "import copy\n",
    "import math"
   ]
  },
  {
   "attachments": {},
   "cell_type": "markdown",
   "metadata": {},
   "source": [
    "### 2 - Linear regression with one variable\n",
    "\n",
    "***\n",
    "   \n",
    "### 2.1. Problem Statement\n",
    "\n",
    "Suppose we are consulting company and we need to prepare a labor market report for next year and predict the average annual salary \n",
    "for the labor force in a particular region with the relevant working experience.\n",
    "\n",
    "We have a dataset with average annual salaries, in US$ for a labor force that corresponds to work experience, in years for particular field "
   ]
  },
  {
   "attachments": {},
   "cell_type": "markdown",
   "metadata": {},
   "source": [
    "### 2.2. Dataset"
   ]
  },
  {
   "cell_type": "code",
   "execution_count": 37,
   "metadata": {},
   "outputs": [
    {
     "name": "stdout",
     "output_type": "stream",
     "text": [
      "    Experience_Years  Annual_Salary\n",
      "0                1.2        39344.0\n",
      "1                1.4        46206.0\n",
      "2                1.6        37732.0\n",
      "3                2.1        43526.0\n",
      "4                2.3        39892.0\n",
      "5                3.0        56643.0\n",
      "6                3.1        60151.0\n",
      "7                3.3        54446.0\n",
      "8                3.3        64446.0\n",
      "9                3.8        57190.0\n",
      "10               4.0        63219.0\n",
      "11               4.1        55795.0\n",
      "12               4.1        56958.0\n",
      "13               4.2        57082.0\n",
      "14               4.6        61112.0\n",
      "15               5.0        67939.0\n",
      "16               5.2        66030.0\n",
      "17               5.4        83089.0\n",
      "18               6.0        81364.0\n",
      "19               6.1        93941.0\n",
      "20               6.9        91739.0\n",
      "21               7.2        98274.0\n",
      "22               8.0       101303.0\n",
      "23               8.3       113813.0\n",
      "24               8.8       109432.0\n",
      "25               9.1       105583.0\n",
      "26               9.6       116970.0\n",
      "27               9.7       112636.0\n",
      "28              10.4       122392.0\n",
      "29              10.6       121873.0\n"
     ]
    }
   ],
   "source": [
    "# Reading CSV file ignorring zero cells \n",
    "salary_dataset_path = './Salary_dataset.csv'\n",
    "salary_dataset = pd.read_csv(salary_dataset_path)\n",
    "salary_dataset.dropna(axis=0)\n",
    "\n",
    "# Print out the overall dataset\n",
    "print(salary_dataset)"
   ]
  },
  {
   "cell_type": "code",
   "execution_count": 38,
   "metadata": {},
   "outputs": [
    {
     "name": "stdout",
     "output_type": "stream",
     "text": [
      "Index(['Experience_Years', 'Annual_Salary'], dtype='object')\n"
     ]
    }
   ],
   "source": [
    "# Print out the header of data sets\n",
    "print(salary_dataset.columns)"
   ]
  },
  {
   "cell_type": "code",
   "execution_count": 39,
   "metadata": {},
   "outputs": [],
   "source": [
    "# Converting column data to list\n",
    "experience_in_years = salary_dataset['Experience_Years'].tolist()\n",
    "annual_salary = salary_dataset['Annual_Salary'].tolist()"
   ]
  },
  {
   "cell_type": "code",
   "execution_count": 40,
   "metadata": {},
   "outputs": [
    {
     "name": "stdout",
     "output_type": "stream",
     "text": [
      "Type of Experience in years: <class 'list'>\n",
      "First five elements of Experience in years are:\n",
      " [1.2, 1.4, 1.6, 2.1, 2.3]\n",
      "Type of Annual Salary: <class 'list'>\n",
      "First five elements of Annual Salary are:\n",
      " [39344.0, 46206.0, 37732.0, 43526.0, 39892.0]\n"
     ]
    }
   ],
   "source": [
    "# Printing out the list of \"Years of experience\" (to double-check)\n",
    "print(\"Type of Experience in years:\", type(experience_in_years))\n",
    "print(\"First five elements of Experience in years are:\\n\", experience_in_years[:5])\n",
    "\n",
    "# Printing out the list of \"Annual Salary\" (to double-check)\n",
    "print(\"Type of Annual Salary:\", type(annual_salary))\n",
    "print(\"First five elements of Annual Salary are:\\n\", annual_salary[:5])"
   ]
  },
  {
   "cell_type": "code",
   "execution_count": 41,
   "metadata": {},
   "outputs": [
    {
     "name": "stdout",
     "output_type": "stream",
     "text": [
      "The shape of Experience in years is: (30,)\n",
      "The shape of Annual Salary is: (30,)\n",
      "Number of training examples (m): 30\n"
     ]
    }
   ],
   "source": [
    "# Check the dimentions of your variables\n",
    "print(\"The shape of Experience in years is:\", np.array(experience_in_years).shape)\n",
    "print(\"The shape of Annual Salary is:\", np.array(annual_salary).shape)\n",
    "print(\"Number of training examples (m):\", len(experience_in_years))"
   ]
  },
  {
   "cell_type": "code",
   "execution_count": 42,
   "metadata": {},
   "outputs": [
    {
     "data": {
      "image/png": "[encoded data removed]",
      "text/plain": [
       "<Figure size 640x480 with 1 Axes>"
      ]
     },
     "metadata": {},
     "output_type": "display_data"
    }
   ],
   "source": [
    "# Visualize the data\n",
    "# Create a scatter plot of the data. Using marker 'x' with a red color 'r' as parameters\n",
    "plt.scatter(experience_in_years, annual_salary, marker='x', c='r')\n",
    "\n",
    "# Set the title\n",
    "plt.title(\"Experience vs Salary\")\n",
    "# Set the y-axis\n",
    "plt.ylabel(\"Annual Salary in US$\")\n",
    "# Set the x-axis\n",
    "plt.xlabel(\"Experience in years\")\n",
    "plt.show()"
   ]
  },
  {
   "attachments": {},
   "cell_type": "markdown",
   "metadata": {},
   "source": [
    "### 2.3. Refresher on linear regression\n",
    "\n",
    "***\n",
    "\n",
    "$$ f_w,_b(x) = wx + b $$\n",
    "\n",
    "To train a linear regression model, we want to find the best  **(𝑤,𝑏)**  parameters that fit your dataset.\n",
    "    \n",
    "To compare how one choice of (𝑤,𝑏)  is better or worse than another choice, you can evaluate it with a cost function  **𝐽(𝑤,𝑏)**\n",
    "\n",
    "**𝐽**  is a function of  **(𝑤,𝑏)**. That is, the value of the cost  **𝐽(𝑤,𝑏)** depends on the value of (𝑤,𝑏).\n",
    "\n",
    "The choice of **(𝑤,𝑏)** that fits our data the best is the one that has the smallest cost  **𝐽(𝑤,𝑏)**.\n",
    "\n",
    "To find the values **(𝑤,𝑏)** that gets the smallest possible cost  **𝐽(𝑤,𝑏)**, we can use a method called ***gradient descent***.\n",
    "\n",
    "With each step of gradient descent, the  parameters **(𝑤,𝑏)** come closer to the optimal values that will achieve the lowest cost  **𝐽(𝑤,𝑏)**.\n",
    "\n",
    "The trained linear regression model can then take the input feature  **𝑥** (experience in years) and output a prediction (annual salary for ordinary employee).  $$ 𝑓_𝑤,_𝑏 (𝑥) $$ \n"
   ]
  },
  {
   "attachments": {},
   "cell_type": "markdown",
   "metadata": {},
   "source": [
    "### 2.4. Compute Cost\n",
    "\n",
    "***\n",
    "\n",
    "**Cost function** \n",
    " $$ J(w,b) = \\frac{1}{2m} \\sum_{i=o}^{m-1} (f_w,_b(x^i - y^i))^2 $$\n",
    "\n",
    " **Model prediction**\n",
    "\n",
    "For linear regression with one variable, the prediction of the model \n",
    "\n",
    "$$ f_w,_b $$ \n",
    "for an example \n",
    "$$ x(i) $$ \n",
    "is represented as:\n",
    "\n",
    "$$ f_w,_b(x^i) = w*x^i + b $$ \n",
    "  This is the equation for a line, with an intercept  **𝑏** and a slope **𝑤**\n",
    "\n",
    "\n",
    "\n",
    "**Implementation**\n",
    "\n",
    "\n",
    "To compute the Costs we introduce the function \"compute_cost ()\" that should make entermediate iteration before:\n",
    "\n",
    "Calculate the prediction values of the model:\n",
    "$$ f_w,_b(x^i) = w*x^i + b $$\n",
    "\n",
    "Compute cost for each period\n",
    "$$ cost^i = (f_w,_b - y^i)^2  $$\n",
    "\n",
    "Return the total cost over all examples\n",
    "$$ J(w,b) = \\frac{1}{2m} \\sum_{i=o}^{m-1} cost^i $$"
   ]
  },
  {
   "cell_type": "code",
   "execution_count": 43,
   "metadata": {},
   "outputs": [],
   "source": [
    "def compute_cost(experience_in_years, annual_salary, w, b):\n",
    "    \n",
    "    # Computes the cost function for linear regression.\n",
    "    \n",
    "    # Args:\n",
    "        # experience_in_years (ndarray): Shape (m,) Input to the model (Experience in years) \n",
    "        # annual_salary (ndarray): Shape (m,) Label (Average salary for ordinary employee)\n",
    "        # w, b (scalar): Parameters of the model\n",
    "    \n",
    "     # Returns\n",
    "        # total_cost (float): The cost of using w,b as the parameters for linear regression to fit the data points in experience_in_years and annual_salary\n",
    "\n",
    "    # number of training examples\n",
    "    m = np.array(experience_in_years).shape[0]\n",
    "\n",
    "    # Set up the total costs to zero\n",
    "    total_cost = 0\n",
    "\n",
    "    # Variable to keep track of sum of cost from each example\n",
    "    cost_sum = 0\n",
    "\n",
    "    # Loop over training examples\n",
    "    for i in range(m):\n",
    "\n",
    "        # Gets the prediction \"f_wb\" for the ith example\n",
    "        f_wb = w * experience_in_years[i] + b\n",
    "\n",
    "        # Code the \"costs\" that associated with the ith example\n",
    "        cost = (f_wb - annual_salary[i]) ** 2\n",
    "\n",
    "        # Update thw sum of total cost for each example\n",
    "        cost_sum = cost_sum + cost \n",
    "\n",
    "    # Get the total cost as the sum divided by \"(2*m)\"\n",
    "    total_cost = (1 / (2 * m)) * cost_sum\n",
    "\n",
    "    return total_cost"
   ]
  },
  {
   "cell_type": "code",
   "execution_count": 44,
   "metadata": {},
   "outputs": [
    {
     "name": "stdout",
     "output_type": "stream",
     "text": [
      "<class 'float'>\n",
      "Cost at initial w and b: 3250507711.545\n"
     ]
    }
   ],
   "source": [
    "# We need check if the implementation was correct by running the following test code:\n",
    "\n",
    "# Compute cost with some initial values for paramaters w, b\n",
    "initial_w = 2\n",
    "initial_b = 1\n",
    "\n",
    "cost = compute_cost(experience_in_years, annual_salary, initial_w, initial_b)\n",
    "print(type(cost))\n",
    "print(f'Cost at initial w and b: {cost:.3f}')"
   ]
  },
  {
   "attachments": {},
   "cell_type": "markdown",
   "metadata": {},
   "source": [
    "### 2.5. Gradient descent\n",
    "\n",
    "*** \n",
    "\n",
    "Gradient descent involves repeated steps to adjust the value of your parameter (w,b) to gradually get a smaller cosr J(w,b)\n",
    "\n",
    "    At each step of gradient descent, it will be helpful for you to monitor your progress by computing the cost J(w,b) as (w,b) gets updated.\n",
    "    In this section, we will implement a fuction to calculate J(w,b) so that you can check the progress of graduent descent implementation.\n",
    "\n",
    "The graduent descent algorithm is:\n",
    "\n",
    "    repeat until convergence:\n",
    "$$ b:= b - \\Alpha * \\frac{\\delta J(w,b)}{\\delta (b)} $$\n",
    "\n",
    "$$ w:= w - \\Alpha * \\frac{\\delta J(w,b)}{\\delta (w)} $$\n",
    "\n",
    "where, parameters **w,b** are both updated simultaneusly and where\n",
    "\n",
    "$$ \\frac {\\delta J(w,b)}{\\delta (b)} = \\frac{1}{m} \\sum_{i=o}^{m-1} (f_w,b(x^i) - y^i)  $$\n",
    "\n",
    "$$ \\frac {\\delta J(w,b)}{\\delta (w)} = \\frac{1}{m} \\sum_{i=o}^{m-1} (f_w,b(x^i) - y^i) * x^i  $$\n",
    "\n",
    "'m' is the number of training examples in the dataset;\n",
    "\n",
    "$$ f_w,b(x^i) $$ \n",
    "is the model's prediction, where \n",
    "\n",
    "$$ y^i $$\n",
    "\n",
    ", is the target value\n",
    "\n",
    "We need implement a fuction called \"comute_graduent\" which calculates \n",
    "$$ \\frac{\\delta J(w)}{\\delta (w)} $$  \n",
    "   \n",
    "$$ \\frac{\\delta J(w)}{\\delta (b)} $$"
   ]
  },
  {
   "cell_type": "code",
   "execution_count": 45,
   "metadata": {},
   "outputs": [],
   "source": [
    "def compute_gradient(experience_in_years, annual_salary, w, b):\n",
    "    \n",
    "    # Computes the gradient for linear regression.\n",
    "    \n",
    "     # Args:\n",
    "        # experience_in_years (ndarray): Shape (m,) Input to the model (Experience in years) \n",
    "        # annual_salary (ndarray): Shape (m,) Label (Average salary for ordinary employee)\n",
    "        # w, b (scalar): Parameters of the model\n",
    "    \n",
    "    # Returns\n",
    "        # dj_dw (scalar): The gradient of the cost w.r.t. the parameters w\n",
    "        # dj_db (scalar): The gradient of the cost w.r.t. the parameter b\n",
    "\n",
    "    # number of training examples\n",
    "    m = np.array(experience_in_years).shape[0]\n",
    "\n",
    "    # Set up the derivatives of the cost w.r.t. the paremeters w and parameter b to zero\n",
    "    dj_dw = 0\n",
    "    dj_db = 0\n",
    "\n",
    "    # Loop over examples\n",
    "    for i in range(m):\n",
    "\n",
    "        # Gets the prediction \"f_wb\" for the ith example\n",
    "        f_wb = w * experience_in_years[i] + b\n",
    "\n",
    "        # Code the gradient for \"w\" from the ith example\n",
    "        dj_dw_i = (f_wb - annual_salary[i]) * experience_in_years[i]\n",
    "\n",
    "        # Code the gradient for \"b\" from the ith example\n",
    "        dj_db_i = (f_wb - annual_salary[i])\n",
    "\n",
    "        # Update the sum of \"dj_db\": \n",
    "        dj_db += dj_db_i\n",
    "\n",
    "        # Update the sum of \"dj_dw\": \n",
    "        dj_dw += dj_dw_i\n",
    "\n",
    "    # Devide both \"\"dj_dw\"\" and \"dj_db\" by \"m\"\n",
    "    dj_dw = dj_dw / m\n",
    "    dj_db = dj_db / m\n",
    "\n",
    "    return dj_dw, dj_db"
   ]
  },
  {
   "cell_type": "code",
   "execution_count": 46,
   "metadata": {},
   "outputs": [
    {
     "name": "stdout",
     "output_type": "stream",
     "text": [
      "Gradient at initial w, b (zeros): -485004.4133333334 -76004.0\n"
     ]
    }
   ],
   "source": [
    "# We need check if the implementation was correct by running the following test code:\n",
    "\n",
    "# TEST 1. Compute cost with some initial values for paramaters w, b\n",
    "initial_w = 0\n",
    "initial_b = 0\n",
    "\n",
    "tmp_dj_dw, tmp_dj_db = compute_gradient(experience_in_years, annual_salary, initial_w, initial_b)\n",
    "print('Gradient at initial w, b (zeros):', tmp_dj_dw, tmp_dj_db)"
   ]
  },
  {
   "cell_type": "code",
   "execution_count": 47,
   "metadata": {},
   "outputs": [
    {
     "name": "stdout",
     "output_type": "stream",
     "text": [
      "Gradient at test w, b: -484995.9128 -76002.71733333333\n"
     ]
    }
   ],
   "source": [
    "# TEST 2. Compute and display cost and gradient with non-zero w\n",
    "test_w = 0.2\n",
    "test_b = 0.2\n",
    "tmp_dj_dw, tmp_dj_db = compute_gradient(experience_in_years, annual_salary, test_w, test_b)\n",
    "\n",
    "print('Gradient at test w, b:', tmp_dj_dw, tmp_dj_db)"
   ]
  },
  {
   "attachments": {},
   "cell_type": "markdown",
   "metadata": {},
   "source": [
    "### 2.6 Learning parameters using batch gradient descent\n",
    "\n",
    "***\n",
    "\n",
    "We need now to find the optimal parameters of a linear regression model by using batch gradient descent. Recall batch refers to running all the examples in one iteration.\n",
    "\n",
    "A good way to verify that gradient descent is working correctly is to look at the value of  **𝐽(𝑤,𝑏)**  and check that it is decreasing with each step.\n",
    "\n",
    "Assuming that implementing of the gradient and computing the cost correctly yields an appropriate value for the learning rate alpha,  **𝐽(𝑤,𝑏)** and it should never increase and should converge to a steady value by the end of the algorithm.\n"
   ]
  },
  {
   "cell_type": "code",
   "execution_count": 49,
   "metadata": {},
   "outputs": [
    {
     "name": "stdout",
     "output_type": "stream",
     "text": [
      "Iteration    0: Cost 1297963218.56  \n",
      "Iteration  150: Cost 45381207.51  \n",
      "Iteration  300: Cost 31682912.19  \n",
      "Iteration  450: Cost 24292859.57  \n",
      "Iteration  600: Cost 20306022.06  \n",
      "Iteration  750: Cost 18155174.94  \n",
      "Iteration  900: Cost 16994820.83  \n",
      "Iteration 1050: Cost 16368824.83  \n",
      "Iteration 1200: Cost 16031108.12  \n",
      "Iteration 1350: Cost 15848914.33  \n",
      "w, b found by gradient descent: 9604.00088842628 23798.659745329478\n"
     ]
    }
   ],
   "source": [
    "def gradient_descent(experience_in_years, annual_salary, w_in, b_in, cost_function, gradient_function, alpha, num_iters):\n",
    "\n",
    "    # Performs batch gradient to learn theta. Updates theta by taking num_iters gradient steps with learning rate alpha\n",
    "\n",
    "    # Args:\n",
    "        # experience_in_years (ndarray): Shape (m,) Input to the model (Experience in years) \n",
    "        # annual_salary (ndarray): Shape (m,) Label (Average salary for ordinary employee)\n",
    "        # w_in, b_in (scalar): Initial values of parameters of the model\n",
    "        # cost_function: function to compute  the gradient\n",
    "        # gradient_function: function to compute the gradient\n",
    "        # alpha: (float) Learning rate\n",
    "        # num_iters: (int) number of iterations to run gradient descent\n",
    "    \n",
    "    # Returns\n",
    "        # w : (ndarray): Shape (1,) Updated values of parameters of the model after running gradient descent\n",
    "        # b : (scalar)              Updated value of parameter of the model after running gradient descent\n",
    "        \n",
    "\n",
    "    # number of training examples\n",
    "    m = len(experience_in_years)\n",
    "\n",
    "    # An array to store cost \"J\" and \"w's\" at each iteration - primarily for graphing later\n",
    "    J_history = []\n",
    "    w_history = []\n",
    "    w = copy.deepcopy(w_in)   # To avoid modifying global \"w\" within function\n",
    "    b = b_in\n",
    "\n",
    "    # Loop over iterations\n",
    "    for i in range(num_iters):\n",
    "\n",
    "        # Calculate the gradint and update the parameters\n",
    "        dj_dw, dj_db = gradient_function(experience_in_years, annual_salary, w, b)\n",
    "\n",
    "        # Update Parameters using \"w\", \"b\", \"alpha\" and gradient\n",
    "        w = w - alpha * dj_dw\n",
    "        b = b - alpha * dj_db\n",
    "\n",
    "        # Save cost \"J\" at each iteration\n",
    "        if i < 100000:   # Prevent resource exhaustion\n",
    "            cost = cost_function(experience_in_years, annual_salary, w, b)\n",
    "            J_history.append(cost)\n",
    "\n",
    "        # Print every cost out at intervals 10 times or as many iterations if < 10\n",
    "        if i % math.ceil(num_iters/10) == 0:\n",
    "            w_history.append(w)\n",
    "            print(f\"Iteration {i:4}: Cost {float(J_history[-1]):8.2f}  \")\n",
    "\n",
    "    return w, b, J_history, w_history    # Return \"w\", \"b\" and \"J_history\", \"w_history\" for graphing\n",
    "\n",
    "\n",
    "# We need check if the implementation was correct by running the following test code:\n",
    "\n",
    "# TEST 1. Run the dradient descent algorithm above to learn the parameters for out dataset.\n",
    "\n",
    "# Initialize fitting parameters. recall that the shape of \"w\" is (n,)\n",
    "initial_w = 0.0\n",
    "initial_b = 0.0\n",
    "\n",
    "# Make some gradient descent setting\n",
    "iterations = 1500\n",
    "alpha = 0.01\n",
    "\n",
    "\n",
    "w,b,_,_ = gradient_descent(experience_in_years, annual_salary, initial_w, initial_b, compute_cost, compute_gradient, alpha, iterations)\n",
    "print(\"w, b found by gradient descent:\", w, b)"
   ]
  },
  {
   "cell_type": "code",
   "execution_count": 50,
   "metadata": {},
   "outputs": [
    {
     "data": {
      "image/png": "[encoded data removed]",
      "text/plain": [
       "<Figure size 640x480 with 1 Axes>"
      ]
     },
     "metadata": {},
     "output_type": "display_data"
    }
   ],
   "source": [
    "# Now we have a fill list of parameters from gradient descent to plot the linear fit.\n",
    "\n",
    "# Recall that we can get the prediction for a single example $$ f(x^(i)) = wx^(i) + b $$\n",
    "\n",
    "# To calculate the predictions on the entire dataset, we can loop through all the training examples and calculate the prediction for each example. This is shown in the code block below.\n",
    "\n",
    "# number of training examples\n",
    "m = np.array(experience_in_years).shape[0]\n",
    "# Create a zero vector\n",
    "predicted = np.zeros(m)\n",
    "\n",
    "# Loop over examples\n",
    "for i in range(m):\n",
    "    predicted[i] = w * experience_in_years[i] + b\n",
    "\n",
    "# We now implement the predicted values to see the linear fit.\n",
    "\n",
    "# Plot the linear fit\n",
    "plt.plot(experience_in_years, predicted, c = \"b\")\n",
    "\n",
    "# Create a scatter plot of the data. \n",
    "plt.scatter(experience_in_years, annual_salary, marker='x', c='r') \n",
    "\n",
    "# Set the title\n",
    "plt.title(\"Annual Salary vs. Experience in years\")\n",
    "# Set the y-axis label\n",
    "plt.ylabel(\"Annual Salary in US$\")\n",
    "# Set the x-axis label\n",
    "plt.xlabel(\"Experience in years\")\n",
    "plt.show()"
   ]
  },
  {
   "cell_type": "code",
   "execution_count": 51,
   "metadata": {},
   "outputs": [
    {
     "name": "stdout",
     "output_type": "stream",
     "text": [
      "For Work experience with 0.5 year, we predict an Annual Salary of $28600.66\n",
      "For Work experience with 0.75 year, we predict an Annual Salary of $31001.66\n"
     ]
    }
   ],
   "source": [
    "# Using the final values of \"w\" and \"b\" for making predictions on annual salary. Let's predict what the annual salary the employee has with 0.5 year and 0.75 respectively.\n",
    "\n",
    "# The model takes in experience_in_year of the employee on the base of 1 year as an input.\n",
    "# Therefore, 0.5 year can be translated into the model as np.array([0.5])\n",
    "# Similarly, 0.75 year can be translated into the model as np.array([0.75])\n",
    "\n",
    "predict1 = 0.5 * w + b\n",
    "print(\"For Work experience with 0.5 year, we predict an Annual Salary of $%.2f\" % predict1)\n",
    "\n",
    "predict2 = 0.75 * w + b\n",
    "print(\"For Work experience with 0.75 year, we predict an Annual Salary of $%.2f\" % predict2)"
   ]
  }
 ],
 "metadata": {
  "kernelspec": {
   "display_name": "Python 3",
   "language": "python",
   "name": "python3"
  },
  "language_info": {
   "codemirror_mode": {
    "name": "ipython",
    "version": 3
   },
   "file_extension": ".py",
   "mimetype": "text/x-python",
   "name": "python",
   "nbconvert_exporter": "python",
   "pygments_lexer": "ipython3",
   "version": "3.10.7"
  },
  "orig_nbformat": 4,
  "vscode": {
   "interpreter": {
    "hash": "a5c4d0a6606f63dbf37c868bbdacca713e97f626b95dceb99e5c61a2a0c97374"
   }
  }
 },
 "nbformat": 4,
 "nbformat_minor": 2
}
